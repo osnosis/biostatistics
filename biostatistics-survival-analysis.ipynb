{
 "cells": [
  {
   "cell_type": "markdown",
   "metadata": {},
   "source": [
    "# Survival Analysis\n",
    "\n",
    "In this notebook, I will be using the Cox proportional hazards model to illustrate the difference in sex and marital status on longevity. The data comes from the U.S. National Health Interview Survey which records the birth year and death year of over a million individuals. Death records stop in 2009 (when the dataset was considered complete), so any people who are still living in 2009 will need to be right-censored. Some people do not have date of birth. Those cases will be truncated."
   ]
  },
  {
   "cell_type": "code",
   "execution_count": 1,
   "metadata": {
    "collapsed": false
   },
   "outputs": [],
   "source": [
    "import numpy as np\n",
    "import pandas as pd\n",
    "import matplotlib.pyplot as plt\n",
    "import seaborn as sns\n",
    "%matplotlib inline\n",
    "\n",
    "import statsmodels.api as sm\n",
    "import statsmodels.formula.api as smf"
   ]
  },
  {
   "cell_type": "markdown",
   "metadata": {},
   "source": [
    "First, load and preview the data."
   ]
  },
  {
   "cell_type": "code",
   "execution_count": 2,
   "metadata": {
    "collapsed": false
   },
   "outputs": [
    {
     "name": "stdout",
     "output_type": "stream",
     "text": [
      "   Unnamed: 0  YEAR           NHISPID  AGE  SEX  SEXORIEN  MARSTAT  BIRTHYR  \\\n",
      "0     2744230  1986  1986109602890101   60    1       NaN       11      NaN   \n",
      "1     2744231  1986  1986109602890102   54    2       NaN       11      NaN   \n",
      "2     2744232  1986  1986109602890103   21    1       NaN       50      NaN   \n",
      "3     2744233  1986  1986109602890201   46    1       NaN       11      NaN   \n",
      "4     2744234  1986  1986109602890202   38    2       NaN       11      NaN   \n",
      "\n",
      "   MORTSTAT  MORTDODY  \n",
      "0       1.0    2005.0  \n",
      "1       1.0    2010.0  \n",
      "2       2.0    9999.0  \n",
      "3       2.0    9999.0  \n",
      "4       2.0    9999.0  \n",
      "(1605246, 10)\n"
     ]
    }
   ],
   "source": [
    "data = pd.read_csv(\"nhis.csv\")\n",
    "print(data.head())\n",
    "print(data.shape)"
   ]
  },
  {
   "cell_type": "code",
   "execution_count": 3,
   "metadata": {
    "collapsed": false
   },
   "outputs": [
    {
     "name": "stdout",
     "output_type": "stream",
     "text": [
      "1988    86844\n",
      "1987    86646\n",
      "1992    85273\n",
      "1990    85099\n",
      "1991    84826\n",
      "1989    83105\n",
      "1994    81481\n",
      "1993    77415\n",
      "1995    70971\n",
      "1997    67986\n",
      "2000    64502\n",
      "2001    64000\n",
      "1998    63308\n",
      "2009    62401\n",
      "1999    62327\n",
      "2005    61929\n",
      "2004    60072\n",
      "2002    59269\n",
      "2003    57245\n",
      "2006    50970\n",
      "2008    50934\n",
      "2007    50901\n",
      "1996    43899\n",
      "1986    43843\n",
      "Name: YEAR, dtype: int64\n"
     ]
    }
   ],
   "source": [
    "print(data.YEAR.value_counts())"
   ]
  },
  {
   "cell_type": "markdown",
   "metadata": {},
   "source": [
    "Now, clean the data."
   ]
  },
  {
   "cell_type": "code",
   "execution_count": 4,
   "metadata": {
    "collapsed": false
   },
   "outputs": [
    {
     "name": "stderr",
     "output_type": "stream",
     "text": [
      "/anaconda/lib/python3.6/site-packages/ipykernel/__main__.py:5: SettingWithCopyWarning: \n",
      "A value is trying to be set on a copy of a slice from a DataFrame.\n",
      "Try using .loc[row_indexer,col_indexer] = value instead\n",
      "\n",
      "See the caveats in the documentation: http://pandas.pydata.org/pandas-docs/stable/indexing.html#indexing-view-versus-copy\n",
      "/anaconda/lib/python3.6/site-packages/ipykernel/__main__.py:8: SettingWithCopyWarning: \n",
      "A value is trying to be set on a copy of a slice from a DataFrame.\n",
      "Try using .loc[row_indexer,col_indexer] = value instead\n",
      "\n",
      "See the caveats in the documentation: http://pandas.pydata.org/pandas-docs/stable/indexing.html#indexing-view-versus-copy\n"
     ]
    },
    {
     "name": "stdout",
     "output_type": "stream",
     "text": [
      "        Unnamed: 0  YEAR         NHISPID  AGE  SEX  SEXORIEN  MARSTAT  \\\n",
      "829402     3928174  1997  19970003080101   33    2       NaN       11   \n",
      "829403     3928175  1997  19970003080102   36    1       NaN       11   \n",
      "829404     3928178  1997  19970003090101   42    1       NaN       11   \n",
      "829405     3928179  1997  19970003090102   52    2       NaN       11   \n",
      "829407     3928182  1997  19970003100101   41    1       NaN       11   \n",
      "\n",
      "        BIRTHYR  MORTSTAT  MORTDODY  Longevity  dead  female  \n",
      "829402   1963.0       2.0    9999.0       46.0   0.0       1  \n",
      "829403   1960.0       2.0    9999.0       49.0   0.0       0  \n",
      "829404   1954.0       1.0    1999.0       45.0   1.0       0  \n",
      "829405   1944.0       2.0    9999.0       65.0   0.0       1  \n",
      "829407   1955.0       2.0    9999.0       54.0   0.0       0  \n",
      "(754219, 13)\n"
     ]
    },
    {
     "name": "stderr",
     "output_type": "stream",
     "text": [
      "/anaconda/lib/python3.6/site-packages/pandas/core/indexing.py:477: SettingWithCopyWarning: \n",
      "A value is trying to be set on a copy of a slice from a DataFrame.\n",
      "Try using .loc[row_indexer,col_indexer] = value instead\n",
      "\n",
      "See the caveats in the documentation: http://pandas.pydata.org/pandas-docs/stable/indexing.html#indexing-view-versus-copy\n",
      "  self.obj[item] = s\n",
      "/anaconda/lib/python3.6/site-packages/ipykernel/__main__.py:14: SettingWithCopyWarning: \n",
      "A value is trying to be set on a copy of a slice from a DataFrame.\n",
      "Try using .loc[row_indexer,col_indexer] = value instead\n",
      "\n",
      "See the caveats in the documentation: http://pandas.pydata.org/pandas-docs/stable/indexing.html#indexing-view-versus-copy\n"
     ]
    }
   ],
   "source": [
    "# Drop cases where birth year is not known\n",
    "data2 =data[(data[\"BIRTHYR\"]<=2009) & (data[\"BIRTHYR\"].notnull())]\n",
    "\n",
    "# Add new feature for time-to-event\n",
    "data2[\"Longevity\"]= data2[\"MORTDODY\"] - data2[\"BIRTHYR\"]\n",
    "\n",
    "# Create a 'status' variable where 1 means dead and 0 means alive as of 2009\n",
    "data2[\"dead\"]=2-data2['MORTSTAT']\n",
    "\n",
    "# For people who were alive as of 2009, calculate their longevity as their age in 2009\n",
    "data2.loc[data2['dead']==0,\"Longevity\"] = 2009 -data2.loc[data2['dead']==0,\"BIRTHYR\"] \n",
    "\n",
    "# Create a binary variable where 1 = female and 0 = male\n",
    "data2[\"female\"] = (data2[\"SEX\"] == 2).astype(int)\n",
    "\n",
    "print(data2.head())\n",
    "print(data2.shape)"
   ]
  },
  {
   "cell_type": "markdown",
   "metadata": {},
   "source": [
    "After cleaning, we have gone from 1,605,246 records to 1,305,561."
   ]
  },
  {
   "cell_type": "code",
   "execution_count": 5,
   "metadata": {
    "collapsed": false
   },
   "outputs": [
    {
     "data": {
      "image/png": "[encoded data removed]",
      "text/plain": [
       "<matplotlib.figure.Figure at 0x1173f6710>"
      ]
     },
     "metadata": {},
     "output_type": "display_data"
    }
   ],
   "source": [
    "g = sns.FacetGrid(data2, row=\"female\", col=\"dead\",margin_titles=True)\n",
    "g.map(plt.hist, \"Longevity\", color=\"steelblue\", lw=0)\n",
    "plt.show()"
   ]
  },
  {
   "cell_type": "markdown",
   "metadata": {},
   "source": [
    "The graphs that correspond to dead = 1.0 have much less data than the graphs for dead = 0.0, which shows us that the vast majority of our sample was still living as of 2009. This means most of our data will be right-censored.\n",
    "\n",
    "Now we're going to use the statsmodels survival analysis functions to create some models for our data. First, we can calculate the Hazard (risk of death) for each age, starting at the youngest people in the sample (18 years old in 2009)."
   ]
  },
  {
   "cell_type": "code",
   "execution_count": 6,
   "metadata": {
    "collapsed": false
   },
   "outputs": [
    {
     "name": "stderr",
     "output_type": "stream",
     "text": [
      "/anaconda/lib/python3.6/site-packages/statsmodels/duration/survfunc.py:55: RuntimeWarning: divide by zero encountered in log\n",
      "  sp = np.log(sp)\n",
      "/anaconda/lib/python3.6/site-packages/statsmodels/duration/survfunc.py:65: RuntimeWarning: divide by zero encountered in true_divide\n",
      "  se = d / (n * (n - d)).astype(np.float64)\n",
      "/anaconda/lib/python3.6/site-packages/statsmodels/duration/survfunc.py:68: RuntimeWarning: invalid value encountered in multiply\n",
      "  se *= sp\n"
     ]
    },
    {
     "data": {
      "text/html": [
       "<div>\n",
       "<table border=\"1\" class=\"dataframe\">\n",
       "  <thead>\n",
       "    <tr style=\"text-align: right;\">\n",
       "      <th></th>\n",
       "      <th>Surv prob</th>\n",
       "      <th>Surv prob SE</th>\n",
       "      <th>num at risk</th>\n",
       "      <th>num events</th>\n",
       "    </tr>\n",
       "    <tr>\n",
       "      <th>Time</th>\n",
       "      <th></th>\n",
       "      <th></th>\n",
       "      <th></th>\n",
       "      <th></th>\n",
       "    </tr>\n",
       "  </thead>\n",
       "  <tbody>\n",
       "    <tr>\n",
       "      <th>18.0</th>\n",
       "      <td>0.999997</td>\n",
       "      <td>0.000002</td>\n",
       "      <td>754217</td>\n",
       "      <td>2.0</td>\n",
       "    </tr>\n",
       "    <tr>\n",
       "      <th>19.0</th>\n",
       "      <td>0.999981</td>\n",
       "      <td>0.000005</td>\n",
       "      <td>753439</td>\n",
       "      <td>12.0</td>\n",
       "    </tr>\n",
       "    <tr>\n",
       "      <th>20.0</th>\n",
       "      <td>0.999940</td>\n",
       "      <td>0.000009</td>\n",
       "      <td>751911</td>\n",
       "      <td>31.0</td>\n",
       "    </tr>\n",
       "    <tr>\n",
       "      <th>21.0</th>\n",
       "      <td>0.999879</td>\n",
       "      <td>0.000013</td>\n",
       "      <td>749414</td>\n",
       "      <td>46.0</td>\n",
       "    </tr>\n",
       "    <tr>\n",
       "      <th>22.0</th>\n",
       "      <td>0.999825</td>\n",
       "      <td>0.000015</td>\n",
       "      <td>746169</td>\n",
       "      <td>40.0</td>\n",
       "    </tr>\n",
       "  </tbody>\n",
       "</table>\n",
       "</div>"
      ],
      "text/plain": [
       "      Surv prob  Surv prob SE  num at risk  num events\n",
       "Time                                                  \n",
       "18.0   0.999997      0.000002       754217         2.0\n",
       "19.0   0.999981      0.000005       753439        12.0\n",
       "20.0   0.999940      0.000009       751911        31.0\n",
       "21.0   0.999879      0.000013       749414        46.0\n",
       "22.0   0.999825      0.000015       746169        40.0"
      ]
     },
     "execution_count": 6,
     "metadata": {},
     "output_type": "execute_result"
    }
   ],
   "source": [
    "sf = sm.SurvfuncRight(data2[\"Longevity\"], data2[\"dead\"])\n",
    "sf.summary().head()"
   ]
  },
  {
   "cell_type": "markdown",
   "metadata": {},
   "source": [
    "What can we observe from this survival table so far?\n",
    "- First, only 2 people in the sample died at the age of 18, with the number of deaths increasing after that.\n",
    "- Second, the standard error steadily gets larger as the sample size (the number at risk/number of people still alive at that timepoint) shrinks.\n",
    "- Finally, the 'number at risk' drops at each timepoint, but by quite a bit more than the number of deaths. This reflects our right-censoring. If someone turned 18 in 2009 and didn't die, they don't count toward the 'number at risk' at age 19 because they're out of the observation window, but they also aren't an event at timepoint 18 because they were still alive at that age.\n",
    "\n",
    "Let's make a survival plot for the men and the women:"
   ]
  },
  {
   "cell_type": "code",
   "execution_count": 7,
   "metadata": {
    "collapsed": false
   },
   "outputs": [
    {
     "name": "stderr",
     "output_type": "stream",
     "text": [
      "/anaconda/lib/python3.6/site-packages/statsmodels/duration/survfunc.py:55: RuntimeWarning: divide by zero encountered in log\n",
      "  sp = np.log(sp)\n",
      "/anaconda/lib/python3.6/site-packages/statsmodels/duration/survfunc.py:65: RuntimeWarning: divide by zero encountered in true_divide\n",
      "  se = d / (n * (n - d)).astype(np.float64)\n",
      "/anaconda/lib/python3.6/site-packages/statsmodels/duration/survfunc.py:68: RuntimeWarning: invalid value encountered in multiply\n",
      "  se *= sp\n"
     ]
    },
    {
     "data": {
      "text/plain": [
       "(0.85, 1)"
      ]
     },
     "execution_count": 7,
     "metadata": {},
     "output_type": "execute_result"
    },
    {
     "data": {
      "image/png": "[encoded data removed]",
      "text/plain": [
       "<matplotlib.figure.Figure at 0x11bc988d0>"
      ]
     },
     "metadata": {},
     "output_type": "display_data"
    }
   ],
   "source": [
    "# Code for this plot modified from the statsmodels documentation at http://www.statsmodels.org/dev/duration.html\n",
    "\n",
    "groups = data2.groupby(\"female\")\n",
    "ax = plt.axes()\n",
    "sexes = [\"male\",\"female\"]\n",
    "\n",
    "# Fitting a survival function for each group\n",
    "for group in groups:\n",
    "    sf = sm.SurvfuncRight(group[1][\"Longevity\"], group[1][\"dead\"])\n",
    "    sf.plot(ax)\n",
    "    \n",
    "li = ax.get_lines()\n",
    "plt.figlegend((li[0], li[2]), sexes, \"center right\")\n",
    "ax.set_ylabel(\"Proportion alive\")\n",
    "ax.set_xlabel(\"Age\")\n",
    "ax.set_autoscaley_on(False)\n",
    "ax.set_ylim([.85,1])"
   ]
  },
  {
   "cell_type": "markdown",
   "metadata": {},
   "source": [
    "Most people are still alive, but this may be due to extreme right-censoring. To find a statistical difference in longevity for men and women, we can test using the Cox PH model."
   ]
  },
  {
   "cell_type": "code",
   "execution_count": 8,
   "metadata": {
    "collapsed": false
   },
   "outputs": [
    {
     "name": "stdout",
     "output_type": "stream",
     "text": [
      "                       Results: PHReg\n",
      "=============================================================\n",
      "Model:                  PH Reg        Sample size:     754217\n",
      "Dependent variable:     Longevity     Num. events:     67383 \n",
      "Ties:                   Breslow                              \n",
      "-------------------------------------------------------------\n",
      "        log HR log HR SE   HR      t     P>|t|  [0.025 0.975]\n",
      "-------------------------------------------------------------\n",
      "female -0.4460    0.0078 0.6402 -57.5296 0.0000 0.6306 0.6500\n",
      "=============================================================\n",
      "Confidence intervals are for the hazard ratios\n"
     ]
    }
   ],
   "source": [
    "mod = smf.phreg(\"Longevity ~  female\", # The model\n",
    "                data2, # The data\n",
    "                status=data2['dead'].values # Whether values are right-censored\n",
    "                ) \n",
    "rslt = mod.fit()\n",
    "print(rslt.summary())"
   ]
  },
  {
   "cell_type": "markdown",
   "metadata": {},
   "source": [
    "Judging by the Hazard Ratio (HR) of the Cox PH model, we can say that at any given age, women are 64% less likely to die than men (with a 95% confidence interval of 63% to 65%). This difference is statistically significant at α of .05 (p < .0001). The large size of our sample is contributing to the small confidence interval. <br>\n",
    "\n",
    "The plot above indicates that the survival discrepancy between male/female shrinks a bit after age 80, which is an observation that cannot be seen in the Cox PH model. This suggests that either we should include some additional features in the model to try and account for this discrepancy, or use a different modeling technique that doesn't assume that the effects of features are consistent across all values. <br>\n",
    "\n",
    "Let's plot the predicted survival rates from the model:"
   ]
  },
  {
   "cell_type": "code",
   "execution_count": 9,
   "metadata": {
    "collapsed": false
   },
   "outputs": [
    {
     "name": "stdout",
     "output_type": "stream",
     "text": [
      "        Unnamed: 0  YEAR         NHISPID  AGE  SEX  SEXORIEN  MARSTAT  \\\n",
      "829402     3928174  1997  19970003080101   33    2       NaN       11   \n",
      "829403     3928175  1997  19970003080102   36    1       NaN       11   \n",
      "829404     3928178  1997  19970003090101   42    1       NaN       11   \n",
      "829405     3928179  1997  19970003090102   52    2       NaN       11   \n",
      "829407     3928182  1997  19970003100101   41    1       NaN       11   \n",
      "\n",
      "        BIRTHYR  MORTSTAT  MORTDODY  Longevity  dead  female  predicted  \n",
      "829402   1963.0       2.0    9999.0       46.0   0.0       1   0.994803  \n",
      "829403   1960.0       2.0    9999.0       49.0   0.0       0   0.988401  \n",
      "829404   1954.0       1.0    1999.0       45.0   1.0       0   0.992777  \n",
      "829405   1944.0       2.0    9999.0       65.0   0.0       1   0.956459  \n",
      "829407   1955.0       2.0    9999.0       54.0   0.0       0   0.978739  \n"
     ]
    },
    {
     "data": {
      "image/png": "[encoded data removed]",
      "text/plain": [
       "<matplotlib.figure.Figure at 0x11ba3ac50>"
      ]
     },
     "metadata": {},
     "output_type": "display_data"
    }
   ],
   "source": [
    "data3=data2[(data2['Longevity'].notnull()) & (data2['female'].notnull()) & (data2['dead'].notnull())]\n",
    "data3[\"predicted\"] = rslt.predict(pred_type='surv').predicted_values\n",
    "\n",
    "print(data3.head())\n",
    "\n",
    "sns.lmplot(x=\"Longevity\", y=\"predicted\", hue=\"female\", data=data3,fit_reg=False,lowess=True)\n",
    "plt.ylim(.85, 1)\n",
    "plt.show()"
   ]
  },
  {
   "cell_type": "markdown",
   "metadata": {},
   "source": [
    "Compared to the survival rates from the raw data, it does appear this model is missing some elements, including the shrinkage in the gender difference after 80, but also the leveling-off of the survival rate once people get to 90 years or older. Again, adding more parameters may help. <br>\n",
    "\n",
    "They say that people who get married live longer than people who don't. Let's add marital status as a feature and recalculate the survival plot and the hazard ratio for being married at any point in a lifetime. <br>\n",
    "\n",
    "First, let's take a look at the values that comprise the raw marital status feature."
   ]
  },
  {
   "cell_type": "code",
   "execution_count": 10,
   "metadata": {
    "collapsed": false
   },
   "outputs": [
    {
     "name": "stdout",
     "output_type": "stream",
     "text": [
      "11    251130\n",
      "10    180579\n",
      "50    170198\n",
      "30     74561\n",
      "20     49623\n",
      "40     19796\n",
      "12      5602\n",
      "99      2722\n",
      "13         8\n",
      "Name: MARSTAT, dtype: int64\n"
     ]
    }
   ],
   "source": [
    "print(data2.MARSTAT.value_counts())"
   ]
  },
  {
   "cell_type": "markdown",
   "metadata": {},
   "source": [
    "There are many label types, the meaning of which can be seen below:\n",
    "\n",
    "- 00: NIU\n",
    "- 10: Married\n",
    "- 11: Married - Spouse present\n",
    "- 12: Married - Spouse not in household\n",
    "- 13: Married - Spouse in household unknown\n",
    "- 20: Widowed\n",
    "- 30: Divorced\n",
    "- 40: Separated\n",
    "- 50: Never married\n",
    "- 99: Unknown marital status\n",
    "\n",
    "We will make a boolean variable 'married' that encodes 1 if the respondent has definitively been married, 0 if they have never been married, and drops all other values."
   ]
  },
  {
   "cell_type": "code",
   "execution_count": 11,
   "metadata": {
    "collapsed": false
   },
   "outputs": [
    {
     "name": "stderr",
     "output_type": "stream",
     "text": [
      "/anaconda/lib/python3.6/site-packages/ipykernel/__main__.py:3: SettingWithCopyWarning: \n",
      "A value is trying to be set on a copy of a slice from a DataFrame.\n",
      "Try using .loc[row_indexer,col_indexer] = value instead\n",
      "\n",
      "See the caveats in the documentation: http://pandas.pydata.org/pandas-docs/stable/indexing.html#indexing-view-versus-copy\n",
      "  app.launch_new_instance()\n"
     ]
    },
    {
     "name": "stdout",
     "output_type": "stream",
     "text": [
      "        Unnamed: 0  YEAR         NHISPID  AGE  SEX  SEXORIEN  MARSTAT  \\\n",
      "829402     3928174  1997  19970003080101   33    2       NaN       11   \n",
      "829403     3928175  1997  19970003080102   36    1       NaN       11   \n",
      "829404     3928178  1997  19970003090101   42    1       NaN       11   \n",
      "829405     3928179  1997  19970003090102   52    2       NaN       11   \n",
      "829407     3928182  1997  19970003100101   41    1       NaN       11   \n",
      "\n",
      "        BIRTHYR  MORTSTAT  MORTDODY  Longevity  dead  female  married  \n",
      "829402   1963.0       2.0    9999.0       46.0   0.0       1        1  \n",
      "829403   1960.0       2.0    9999.0       49.0   0.0       0        1  \n",
      "829404   1954.0       1.0    1999.0       45.0   1.0       0        1  \n",
      "829405   1944.0       2.0    9999.0       65.0   0.0       1        1  \n",
      "829407   1955.0       2.0    9999.0       54.0   0.0       0        1  \n",
      "170198\n",
      "581299\n"
     ]
    }
   ],
   "source": [
    "data4 = data2[(data2.MARSTAT != 00) & (data2.MARSTAT != 99)]\n",
    "\n",
    "# Create a 'married' variable where 1 means has been married and 0 means never married as of 2009\n",
    "data4['married'] = data4['MARSTAT'].apply(lambda x: 0 if x == 50 else 1)\n",
    "print(data4.head())\n",
    "\n",
    "print(len(data4[data4.married == 0]))\n",
    "print(len(data4[data4.married == 1]))"
   ]
  },
  {
   "cell_type": "markdown",
   "metadata": {},
   "source": [
    "We have 170,198 respondents who have never been married and 581,299 who have reported being married at some point in their life. Let's visualize these two groups and how they differ in longevity."
   ]
  },
  {
   "cell_type": "code",
   "execution_count": 14,
   "metadata": {
    "collapsed": false
   },
   "outputs": [
    {
     "data": {
      "image/png": "[encoded data removed]",
      "text/plain": [
       "<matplotlib.figure.Figure at 0x11b9c53c8>"
      ]
     },
     "metadata": {},
     "output_type": "display_data"
    }
   ],
   "source": [
    "g = sns.FacetGrid(data4, row=\"married\", col=\"dead\",margin_titles=True)\n",
    "g.map(plt.hist, \"Longevity\", color=\"steelblue\", lw=0)\n",
    "plt.show()"
   ]
  },
  {
   "cell_type": "markdown",
   "metadata": {},
   "source": [
    "There is hardly any data for the never been married group that died in the study period. This is probably because people who report never having been married are typically younger. For the respondents who are still alive, we can see that the age distribution is shifted to the left, with fewer datapoints. There may not be enough reliable data to draw a valid conclusion.\n",
    "\n",
    "Still, let's calculate the Hazard (risk of death) for each age."
   ]
  },
  {
   "cell_type": "code",
   "execution_count": 15,
   "metadata": {
    "collapsed": false
   },
   "outputs": [
    {
     "name": "stderr",
     "output_type": "stream",
     "text": [
      "/anaconda/lib/python3.6/site-packages/statsmodels/duration/survfunc.py:55: RuntimeWarning: divide by zero encountered in log\n",
      "  sp = np.log(sp)\n",
      "/anaconda/lib/python3.6/site-packages/statsmodels/duration/survfunc.py:65: RuntimeWarning: divide by zero encountered in true_divide\n",
      "  se = d / (n * (n - d)).astype(np.float64)\n",
      "/anaconda/lib/python3.6/site-packages/statsmodels/duration/survfunc.py:68: RuntimeWarning: invalid value encountered in multiply\n",
      "  se *= sp\n"
     ]
    },
    {
     "data": {
      "text/html": [
       "<div>\n",
       "<table border=\"1\" class=\"dataframe\">\n",
       "  <thead>\n",
       "    <tr style=\"text-align: right;\">\n",
       "      <th></th>\n",
       "      <th>Surv prob</th>\n",
       "      <th>Surv prob SE</th>\n",
       "      <th>num at risk</th>\n",
       "      <th>num events</th>\n",
       "    </tr>\n",
       "    <tr>\n",
       "      <th>Time</th>\n",
       "      <th></th>\n",
       "      <th></th>\n",
       "      <th></th>\n",
       "      <th></th>\n",
       "    </tr>\n",
       "  </thead>\n",
       "  <tbody>\n",
       "    <tr>\n",
       "      <th>18.0</th>\n",
       "      <td>0.999997</td>\n",
       "      <td>0.000002</td>\n",
       "      <td>751495</td>\n",
       "      <td>2.0</td>\n",
       "    </tr>\n",
       "    <tr>\n",
       "      <th>19.0</th>\n",
       "      <td>0.999981</td>\n",
       "      <td>0.000005</td>\n",
       "      <td>750717</td>\n",
       "      <td>12.0</td>\n",
       "    </tr>\n",
       "    <tr>\n",
       "      <th>20.0</th>\n",
       "      <td>0.999940</td>\n",
       "      <td>0.000009</td>\n",
       "      <td>749189</td>\n",
       "      <td>31.0</td>\n",
       "    </tr>\n",
       "    <tr>\n",
       "      <th>21.0</th>\n",
       "      <td>0.999878</td>\n",
       "      <td>0.000013</td>\n",
       "      <td>746692</td>\n",
       "      <td>46.0</td>\n",
       "    </tr>\n",
       "    <tr>\n",
       "      <th>22.0</th>\n",
       "      <td>0.999825</td>\n",
       "      <td>0.000015</td>\n",
       "      <td>743450</td>\n",
       "      <td>40.0</td>\n",
       "    </tr>\n",
       "  </tbody>\n",
       "</table>\n",
       "</div>"
      ],
      "text/plain": [
       "      Surv prob  Surv prob SE  num at risk  num events\n",
       "Time                                                  \n",
       "18.0   0.999997      0.000002       751495         2.0\n",
       "19.0   0.999981      0.000005       750717        12.0\n",
       "20.0   0.999940      0.000009       749189        31.0\n",
       "21.0   0.999878      0.000013       746692        46.0\n",
       "22.0   0.999825      0.000015       743450        40.0"
      ]
     },
     "execution_count": 15,
     "metadata": {},
     "output_type": "execute_result"
    }
   ],
   "source": [
    "sf = sm.SurvfuncRight(data4[\"Longevity\"], data4[\"dead\"])\n",
    "sf.summary().head()"
   ]
  },
  {
   "cell_type": "markdown",
   "metadata": {},
   "source": [
    "The number of people at risk at every age is smaller compared to the male/female data because there are fewer datapoints."
   ]
  },
  {
   "cell_type": "code",
   "execution_count": 19,
   "metadata": {
    "collapsed": false
   },
   "outputs": [
    {
     "name": "stderr",
     "output_type": "stream",
     "text": [
      "/anaconda/lib/python3.6/site-packages/statsmodels/duration/survfunc.py:55: RuntimeWarning: divide by zero encountered in log\n",
      "  sp = np.log(sp)\n",
      "/anaconda/lib/python3.6/site-packages/statsmodels/duration/survfunc.py:65: RuntimeWarning: divide by zero encountered in true_divide\n",
      "  se = d / (n * (n - d)).astype(np.float64)\n",
      "/anaconda/lib/python3.6/site-packages/statsmodels/duration/survfunc.py:68: RuntimeWarning: invalid value encountered in multiply\n",
      "  se *= sp\n"
     ]
    },
    {
     "data": {
      "text/plain": [
       "(0.85, 1)"
      ]
     },
     "execution_count": 19,
     "metadata": {},
     "output_type": "execute_result"
    },
    {
     "data": {
      "image/png": "[encoded data removed]",
      "text/plain": [
       "<matplotlib.figure.Figure at 0x11bbe8470>"
      ]
     },
     "metadata": {},
     "output_type": "display_data"
    }
   ],
   "source": [
    "groups = data4.groupby(\"married\")\n",
    "ax = plt.axes()\n",
    "marital_status = [\"never been married\", \"married\"]\n",
    "\n",
    "# Fitting a survival function for each group\n",
    "for group in groups:\n",
    "    sf = sm.SurvfuncRight(group[1][\"Longevity\"], group[1][\"dead\"])\n",
    "    sf.plot(ax)\n",
    "    \n",
    "li = ax.get_lines()\n",
    "plt.figlegend((li[0], li[2]), marital_status, \"center right\")\n",
    "ax.set_ylabel(\"Proportion alive\")\n",
    "ax.set_xlabel(\"Age\")\n",
    "ax.set_autoscaley_on(False)\n",
    "ax.set_ylim([.85,1])"
   ]
  },
  {
   "cell_type": "markdown",
   "metadata": {},
   "source": [
    "As the hypothesis suggests, the population of respondents that have been married drop off later than those who have never been married. However, it is important to note that the population of single respondents is smaller in comparison, which may be skewing the results. Let's test using the Cox PH model."
   ]
  },
  {
   "cell_type": "code",
   "execution_count": 20,
   "metadata": {
    "collapsed": false
   },
   "outputs": [
    {
     "name": "stdout",
     "output_type": "stream",
     "text": [
      "                        Results: PHReg\n",
      "==============================================================\n",
      "Model:                   PH Reg        Sample size:     751495\n",
      "Dependent variable:      Longevity     Num. events:     67184 \n",
      "Ties:                    Breslow                              \n",
      "--------------------------------------------------------------\n",
      "         log HR log HR SE   HR      t     P>|t|  [0.025 0.975]\n",
      "--------------------------------------------------------------\n",
      "married -0.6716    0.0140 0.5109 -47.9976 0.0000 0.4971 0.5251\n",
      "==============================================================\n",
      "Confidence intervals are for the hazard ratios\n"
     ]
    }
   ],
   "source": [
    "mod = smf.phreg(\"Longevity ~  married\", # The model\n",
    "                data4, # The data\n",
    "                status=data4['dead'].values # Whether values are right-censored\n",
    "                ) \n",
    "rslt = mod.fit()\n",
    "print(rslt.summary())"
   ]
  },
  {
   "cell_type": "markdown",
   "metadata": {},
   "source": [
    "The Cox PH model indicates that at any given age, married respondents are 51% less likely to die than respondents who have never been married. We observe a 95% confidence interval of 50% to 53%. This difference is statistically significant at α of .05 (p < .0001). <br>\n",
    "\n",
    "Now, let's plot the prediction."
   ]
  },
  {
   "cell_type": "code",
   "execution_count": 21,
   "metadata": {
    "collapsed": false
   },
   "outputs": [
    {
     "name": "stdout",
     "output_type": "stream",
     "text": [
      "        Unnamed: 0  YEAR         NHISPID  AGE  SEX  SEXORIEN  MARSTAT  \\\n",
      "829402     3928174  1997  19970003080101   33    2       NaN       11   \n",
      "829403     3928175  1997  19970003080102   36    1       NaN       11   \n",
      "829404     3928178  1997  19970003090101   42    1       NaN       11   \n",
      "829405     3928179  1997  19970003090102   52    2       NaN       11   \n",
      "829407     3928182  1997  19970003100101   41    1       NaN       11   \n",
      "\n",
      "        BIRTHYR  MORTSTAT  MORTDODY  Longevity  dead  female  married  \\\n",
      "829402   1963.0       2.0    9999.0       46.0   0.0       1        1   \n",
      "829403   1960.0       2.0    9999.0       49.0   0.0       0        1   \n",
      "829404   1954.0       1.0    1999.0       45.0   1.0       0        1   \n",
      "829405   1944.0       2.0    9999.0       65.0   0.0       1        1   \n",
      "829407   1955.0       2.0    9999.0       54.0   0.0       0        1   \n",
      "\n",
      "        predicted  \n",
      "829402   0.994110  \n",
      "829403   0.991479  \n",
      "829404   0.994769  \n",
      "829405   0.948548  \n",
      "829407   0.984121  \n"
     ]
    },
    {
     "data": {
      "image/png": "[encoded data removed]",
      "text/plain": [
       "<matplotlib.figure.Figure at 0x11df6acc0>"
      ]
     },
     "metadata": {},
     "output_type": "display_data"
    }
   ],
   "source": [
    "data5=data4[(data4['Longevity'].notnull()) & (data4['married'].notnull()) & (data4['dead'].notnull())]\n",
    "data5[\"predicted\"] = rslt.predict(pred_type='surv').predicted_values\n",
    "\n",
    "print(data5.head())\n",
    "\n",
    "sns.lmplot(x=\"Longevity\", y=\"predicted\", hue=\"married\", data=data5,fit_reg=False,lowess=True)\n",
    "plt.ylim(.85, 1)\n",
    "plt.show()"
   ]
  },
  {
   "cell_type": "markdown",
   "metadata": {},
   "source": [
    "Our prediction matches the raw data, with married respondents living longer than single respondents. But how does this finding fit into the male/female paradigm? Let's add marital status and gender into the Cox PH model and see how they stack up against eachother."
   ]
  },
  {
   "cell_type": "code",
   "execution_count": 22,
   "metadata": {
    "collapsed": false
   },
   "outputs": [
    {
     "name": "stdout",
     "output_type": "stream",
     "text": [
      "                        Results: PHReg\n",
      "==============================================================\n",
      "Model:                   PH Reg        Sample size:     751495\n",
      "Dependent variable:      Longevity     Num. events:     67184 \n",
      "Ties:                    Breslow                              \n",
      "--------------------------------------------------------------\n",
      "         log HR log HR SE   HR      t     P>|t|  [0.025 0.975]\n",
      "--------------------------------------------------------------\n",
      "married -0.6774    0.0140 0.5079 -48.3792 0.0000 0.4942 0.5221\n",
      "female  -0.4466    0.0078 0.6398 -57.5148 0.0000 0.6302 0.6496\n",
      "==============================================================\n",
      "Confidence intervals are for the hazard ratios\n"
     ]
    }
   ],
   "source": [
    "mod = smf.phreg(\"Longevity ~  married + female\", # The model\n",
    "                data4, # The data\n",
    "                status=data4['dead'].values # Whether values are right-censored\n",
    "                ) \n",
    "rslt = mod.fit()\n",
    "print(rslt.summary())"
   ]
  },
  {
   "cell_type": "code",
   "execution_count": 31,
   "metadata": {
    "collapsed": false
   },
   "outputs": [
    {
     "name": "stdout",
     "output_type": "stream",
     "text": [
      "        Unnamed: 0  YEAR         NHISPID  AGE  SEX  SEXORIEN  MARSTAT  \\\n",
      "829402     3928174  1997  19970003080101   33    2       NaN       11   \n",
      "829403     3928175  1997  19970003080102   36    1       NaN       11   \n",
      "829404     3928178  1997  19970003090101   42    1       NaN       11   \n",
      "829405     3928179  1997  19970003090102   52    2       NaN       11   \n",
      "829407     3928182  1997  19970003100101   41    1       NaN       11   \n",
      "\n",
      "        BIRTHYR  MORTSTAT  MORTDODY  Longevity  dead  female  married  \\\n",
      "829402   1963.0       2.0    9999.0       46.0   0.0       1        1   \n",
      "829403   1960.0       2.0    9999.0       49.0   0.0       0        1   \n",
      "829404   1954.0       1.0    1999.0       45.0   1.0       0        1   \n",
      "829405   1944.0       2.0    9999.0       65.0   0.0       1        1   \n",
      "829407   1955.0       2.0    9999.0       54.0   0.0       0        1   \n",
      "\n",
      "        predicted married/female  \n",
      "829402   0.995348         (1, 1)  \n",
      "829403   0.989488         (1, 0)  \n",
      "829404   0.993552         (1, 0)  \n",
      "829405   0.958864         (1, 1)  \n",
      "829407   0.980396         (1, 0)  \n"
     ]
    },
    {
     "data": {
      "image/png": "[encoded data removed]",
      "text/plain": [
       "<matplotlib.figure.Figure at 0x122dc44e0>"
      ]
     },
     "metadata": {},
     "output_type": "display_data"
    }
   ],
   "source": [
    "data5 = data4[(data4['Longevity'].notnull()) & (data4['married'].notnull()) & (data4['female'].notnull()) & (data4['dead'].notnull())]\n",
    "data5[\"predicted\"] = rslt.predict(pred_type='surv').predicted_values\n",
    "data5['married/female'] = data6.apply(lambda row: (row['married'],row['female']), axis=1)\n",
    "print(data5.head())\n",
    "\n",
    "sns.lmplot(x=\"Longevity\", y=\"predicted\", hue=\"married/female\", data=data5,fit_reg=False,lowess=True)\n",
    "plt.ylim(.85, 1)\n",
    "plt.show()"
   ]
  },
  {
   "cell_type": "markdown",
   "metadata": {},
   "source": [
    "Our predictions show that female respondents who have been married survive the longest, with male married respondents next. Unmarried female respondents are close behind, while unmarried male respondents have the lowest survival rate. This indicates that getting married is a stronger indicator for survival than gender. <br>\n",
    "\n",
    "What could be contributing to this phenomena? One thing to consider is that married couples tend to stay home more, which means they are likely eating more homecooked meals, while single people tend to go out and socialize more, likely consuming more alcohol, which has detrimental effects on the body. Another theory is that married couples may find more fulfillment, either in their partner or in their children/family unit, which may reduce stress and contribute to longevity. Yet another reason could be that married people may have more responsibilities to their family, which may influence their lifestyle decisions towards healthy choices.\n",
    "\n",
    "Through this notebook, we have shown that American females tend to live longer than males, and that people who have been married at some point in their lifetime tend to live longer than poeple who have never been married. Using a Cox PH model indicated that at any given age, females were 64% less likely to die than men, though the raw data suggested that there were different effects in different age groups. Applying the Cox PH model with the marital status indicated that at any age, married individuals were 51% less likely to die than single individuals. When considering both features in the model, it appeared that marriage was a stronger indicator than gender."
   ]
  }
 ],
 "metadata": {
  "kernelspec": {
   "display_name": "Python 3",
   "language": "python",
   "name": "python3"
  },
  "language_info": {
   "codemirror_mode": {
    "name": "ipython",
    "version": 3
   },
   "file_extension": ".py",
   "mimetype": "text/x-python",
   "name": "python",
   "nbconvert_exporter": "python",
   "pygments_lexer": "ipython3",
   "version": "3.6.0"
  }
 },
 "nbformat": 4,
 "nbformat_minor": 2
}
